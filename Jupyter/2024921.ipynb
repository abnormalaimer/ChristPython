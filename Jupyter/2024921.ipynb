{
 "cells": [
  {
   "cell_type": "code",
   "id": "eefbd98d-66fb-4049-ae2b-1eeacd96f36b",
   "metadata": {
    "ExecuteTime": {
     "end_time": "2024-09-23T23:55:09.500958Z",
     "start_time": "2024-09-23T23:55:09.326062Z"
    }
   },
   "source": [
    "import numpy as np\n",
    "\n",
    "url = 'https://api.github.com/repos/pandas-dev/pandas/issues'"
   ],
   "outputs": [],
   "execution_count": null
  },
  {
   "metadata": {
    "ExecuteTime": {
     "end_time": "2024-09-23T23:58:10.119007Z",
     "start_time": "2024-09-23T23:58:08.159415Z"
    }
   },
   "cell_type": "code",
   "source": [
    "import pandas as pd\n",
    "import requests\n",
    "\n",
    "resp=requests.get(url)\n",
    "resp\n",
    "data=resp.json()\n",
    "data[0]['title']\n",
    "issues=pd.DataFrame(data,columns=['number','title'])\n",
    "issues"
   ],
   "id": "53e6a4b95981dc09",
   "outputs": [
    {
     "data": {
      "text/plain": [
       "    number                                              title\n",
       "0    59881  BUG: `groupby` results in index with duplicate...\n",
       "1    59880   DOC: defaults in method signature vs description\n",
       "2    59879  BUG (string dtype): looking up missing value i...\n",
       "3    59878  DOC: Add doc for Series.dt.to_timestamp to dat...\n",
       "4    59877  BUG: Adding `\\cline`s to LaTeX table doesn't w...\n",
       "5    59876  BUG: `pd.options.display.float_format` did not...\n",
       "6    59875            TST: update frame method quantile tests\n",
       "7    59874                ENH: Droping consecutive duplicates\n",
       "8    59873   Fix Docstring Issues for pandas.Series.sparse...\n",
       "9    59872  DOC: fix SA01, ES01 for pandas.errors.EmptyDat...\n",
       "10   59871  DOC: fix RT03, ES01 for pandas.core.resample.R...\n",
       "11   59869  DOC: fix RT03, ES01 for pandas.core.groupby.Da...\n",
       "12   59868                DOC: fix RT03 for pandas.date_range\n",
       "13   59867  DOC: fix SA01, ES01 for pandas.arrays.Interval...\n",
       "14   59866       DOC: fix SA01 for pandas.arrays.BooleanArray\n",
       "15   59865  DOC: fix SA01, ES01 for pandas.api.types.is_ob...\n",
       "16   59864    DOC: fix SA01 for pandas.api.types.is_list_like\n",
       "17   59863  DOC: fix SA01 for pandas.api.types.is_interval...\n",
       "18   59862  DOC: fix SA01 for pandas.api.types.is_int64_dtype\n",
       "19   59861  DOC: fix SA01, ES01 for pandas.api.types.is_fl...\n",
       "20   59860  DOC: fix SA01, ES01 for pandas.Timedelta.to_ti...\n",
       "21   59859  DOC: fix SA01, ES01 for pandas.Series.sparse.s...\n",
       "22   59858  DOC: fix SA01 for pandas.Series.sparse.fill_value\n",
       "23   59857     DOC: fix SA01, ES01 for pandas.RangeIndex.step\n",
       "24   59856  DOC: fix SA01, ES01 for pandas.tseries.offsets...\n",
       "25   59855  DOC: Fix inconsistent and incomplete documenta...\n",
       "26   59854  String dtype: allow string dtype for non-raw a...\n",
       "27   59853              String dtype: implement sum reduction\n",
       "28   59852                                               typo\n",
       "29   59850      Separate out examples - pandas.str.is methods"
      ],
      "text/html": [
       "<div>\n",
       "<style scoped>\n",
       "    .dataframe tbody tr th:only-of-type {\n",
       "        vertical-align: middle;\n",
       "    }\n",
       "\n",
       "    .dataframe tbody tr th {\n",
       "        vertical-align: top;\n",
       "    }\n",
       "\n",
       "    .dataframe thead th {\n",
       "        text-align: right;\n",
       "    }\n",
       "</style>\n",
       "<table border=\"1\" class=\"dataframe\">\n",
       "  <thead>\n",
       "    <tr style=\"text-align: right;\">\n",
       "      <th></th>\n",
       "      <th>number</th>\n",
       "      <th>title</th>\n",
       "    </tr>\n",
       "  </thead>\n",
       "  <tbody>\n",
       "    <tr>\n",
       "      <th>0</th>\n",
       "      <td>59881</td>\n",
       "      <td>BUG: `groupby` results in index with duplicate...</td>\n",
       "    </tr>\n",
       "    <tr>\n",
       "      <th>1</th>\n",
       "      <td>59880</td>\n",
       "      <td>DOC: defaults in method signature vs description</td>\n",
       "    </tr>\n",
       "    <tr>\n",
       "      <th>2</th>\n",
       "      <td>59879</td>\n",
       "      <td>BUG (string dtype): looking up missing value i...</td>\n",
       "    </tr>\n",
       "    <tr>\n",
       "      <th>3</th>\n",
       "      <td>59878</td>\n",
       "      <td>DOC: Add doc for Series.dt.to_timestamp to dat...</td>\n",
       "    </tr>\n",
       "    <tr>\n",
       "      <th>4</th>\n",
       "      <td>59877</td>\n",
       "      <td>BUG: Adding `\\cline`s to LaTeX table doesn't w...</td>\n",
       "    </tr>\n",
       "    <tr>\n",
       "      <th>5</th>\n",
       "      <td>59876</td>\n",
       "      <td>BUG: `pd.options.display.float_format` did not...</td>\n",
       "    </tr>\n",
       "    <tr>\n",
       "      <th>6</th>\n",
       "      <td>59875</td>\n",
       "      <td>TST: update frame method quantile tests</td>\n",
       "    </tr>\n",
       "    <tr>\n",
       "      <th>7</th>\n",
       "      <td>59874</td>\n",
       "      <td>ENH: Droping consecutive duplicates</td>\n",
       "    </tr>\n",
       "    <tr>\n",
       "      <th>8</th>\n",
       "      <td>59873</td>\n",
       "      <td>Fix Docstring Issues for pandas.Series.sparse...</td>\n",
       "    </tr>\n",
       "    <tr>\n",
       "      <th>9</th>\n",
       "      <td>59872</td>\n",
       "      <td>DOC: fix SA01, ES01 for pandas.errors.EmptyDat...</td>\n",
       "    </tr>\n",
       "    <tr>\n",
       "      <th>10</th>\n",
       "      <td>59871</td>\n",
       "      <td>DOC: fix RT03, ES01 for pandas.core.resample.R...</td>\n",
       "    </tr>\n",
       "    <tr>\n",
       "      <th>11</th>\n",
       "      <td>59869</td>\n",
       "      <td>DOC: fix RT03, ES01 for pandas.core.groupby.Da...</td>\n",
       "    </tr>\n",
       "    <tr>\n",
       "      <th>12</th>\n",
       "      <td>59868</td>\n",
       "      <td>DOC: fix RT03 for pandas.date_range</td>\n",
       "    </tr>\n",
       "    <tr>\n",
       "      <th>13</th>\n",
       "      <td>59867</td>\n",
       "      <td>DOC: fix SA01, ES01 for pandas.arrays.Interval...</td>\n",
       "    </tr>\n",
       "    <tr>\n",
       "      <th>14</th>\n",
       "      <td>59866</td>\n",
       "      <td>DOC: fix SA01 for pandas.arrays.BooleanArray</td>\n",
       "    </tr>\n",
       "    <tr>\n",
       "      <th>15</th>\n",
       "      <td>59865</td>\n",
       "      <td>DOC: fix SA01, ES01 for pandas.api.types.is_ob...</td>\n",
       "    </tr>\n",
       "    <tr>\n",
       "      <th>16</th>\n",
       "      <td>59864</td>\n",
       "      <td>DOC: fix SA01 for pandas.api.types.is_list_like</td>\n",
       "    </tr>\n",
       "    <tr>\n",
       "      <th>17</th>\n",
       "      <td>59863</td>\n",
       "      <td>DOC: fix SA01 for pandas.api.types.is_interval...</td>\n",
       "    </tr>\n",
       "    <tr>\n",
       "      <th>18</th>\n",
       "      <td>59862</td>\n",
       "      <td>DOC: fix SA01 for pandas.api.types.is_int64_dtype</td>\n",
       "    </tr>\n",
       "    <tr>\n",
       "      <th>19</th>\n",
       "      <td>59861</td>\n",
       "      <td>DOC: fix SA01, ES01 for pandas.api.types.is_fl...</td>\n",
       "    </tr>\n",
       "    <tr>\n",
       "      <th>20</th>\n",
       "      <td>59860</td>\n",
       "      <td>DOC: fix SA01, ES01 for pandas.Timedelta.to_ti...</td>\n",
       "    </tr>\n",
       "    <tr>\n",
       "      <th>21</th>\n",
       "      <td>59859</td>\n",
       "      <td>DOC: fix SA01, ES01 for pandas.Series.sparse.s...</td>\n",
       "    </tr>\n",
       "    <tr>\n",
       "      <th>22</th>\n",
       "      <td>59858</td>\n",
       "      <td>DOC: fix SA01 for pandas.Series.sparse.fill_value</td>\n",
       "    </tr>\n",
       "    <tr>\n",
       "      <th>23</th>\n",
       "      <td>59857</td>\n",
       "      <td>DOC: fix SA01, ES01 for pandas.RangeIndex.step</td>\n",
       "    </tr>\n",
       "    <tr>\n",
       "      <th>24</th>\n",
       "      <td>59856</td>\n",
       "      <td>DOC: fix SA01, ES01 for pandas.tseries.offsets...</td>\n",
       "    </tr>\n",
       "    <tr>\n",
       "      <th>25</th>\n",
       "      <td>59855</td>\n",
       "      <td>DOC: Fix inconsistent and incomplete documenta...</td>\n",
       "    </tr>\n",
       "    <tr>\n",
       "      <th>26</th>\n",
       "      <td>59854</td>\n",
       "      <td>String dtype: allow string dtype for non-raw a...</td>\n",
       "    </tr>\n",
       "    <tr>\n",
       "      <th>27</th>\n",
       "      <td>59853</td>\n",
       "      <td>String dtype: implement sum reduction</td>\n",
       "    </tr>\n",
       "    <tr>\n",
       "      <th>28</th>\n",
       "      <td>59852</td>\n",
       "      <td>typo</td>\n",
       "    </tr>\n",
       "    <tr>\n",
       "      <th>29</th>\n",
       "      <td>59850</td>\n",
       "      <td>Separate out examples - pandas.str.is methods</td>\n",
       "    </tr>\n",
       "  </tbody>\n",
       "</table>\n",
       "</div>"
      ]
     },
     "execution_count": 11,
     "metadata": {},
     "output_type": "execute_result"
    }
   ],
   "execution_count": 11
  },
  {
   "metadata": {
    "ExecuteTime": {
     "end_time": "2024-09-24T00:06:06.836188Z",
     "start_time": "2024-09-24T00:06:06.820223Z"
    }
   },
   "cell_type": "code",
   "source": [
    "import sqlite3\n",
    "con=sqlite3.connect('mydata.sqlite')\n",
    "data = [('Atlanta', 'Georgia', 1.25, 6),\n",
    "\t\t\t\t         ('Tallahassee', 'Florida', 2.6, 3),\n",
    "           ('Sacramento', 'California', 1.7, 5)]\n",
    "stmt = \"INSERT INTO test VALUES(? , ? , ? , ? )\"\n",
    "con.executemany(stmt, data)"
   ],
   "id": "a60a5c8474334aef",
   "outputs": [
    {
     "data": {
      "text/plain": [
       "<sqlite3.Cursor at 0x2b3f22f7cc0>"
      ]
     },
     "execution_count": 18,
     "metadata": {},
     "output_type": "execute_result"
    }
   ],
   "execution_count": 18
  },
  {
   "metadata": {
    "ExecuteTime": {
     "end_time": "2024-09-24T00:12:19.368084Z",
     "start_time": "2024-09-24T00:12:19.364053Z"
    }
   },
   "cell_type": "code",
   "source": "con.commit()",
   "id": "49f39108388cc0c1",
   "outputs": [],
   "execution_count": 24
  },
  {
   "metadata": {
    "ExecuteTime": {
     "end_time": "2024-09-24T00:11:32.253538Z",
     "start_time": "2024-09-24T00:11:32.246482Z"
    }
   },
   "cell_type": "code",
   "source": [
    "cursor=con.execute('select * from test')\n",
    "rows=cursor.fetchall()\n",
    "rows"
   ],
   "id": "27dc2ff2ea1664c6",
   "outputs": [
    {
     "data": {
      "text/plain": [
       "[('Atlanta', 'Georgia', 1.25, 6),\n",
       " ('Tallahassee', 'Florida', 2.6, 3),\n",
       " ('Sacramento', 'California', 1.7, 5),\n",
       " ('Atlanta', 'Georgia', 1.25, 6),\n",
       " ('Tallahassee', 'Florida', 2.6, 3),\n",
       " ('Sacramento', 'California', 1.7, 5)]"
      ]
     },
     "execution_count": 20,
     "metadata": {},
     "output_type": "execute_result"
    }
   ],
   "execution_count": 20
  },
  {
   "metadata": {
    "ExecuteTime": {
     "end_time": "2024-09-24T00:14:42.327691Z",
     "start_time": "2024-09-24T00:14:42.321651Z"
    }
   },
   "cell_type": "code",
   "source": "cursor.description",
   "id": "ef07081892620c94",
   "outputs": [
    {
     "data": {
      "text/plain": [
       "(('a', None, None, None, None, None, None),\n",
       " ('b', None, None, None, None, None, None),\n",
       " ('c', None, None, None, None, None, None),\n",
       " ('d', None, None, None, None, None, None))"
      ]
     },
     "execution_count": 25,
     "metadata": {},
     "output_type": "execute_result"
    }
   ],
   "execution_count": 25
  },
  {
   "metadata": {
    "ExecuteTime": {
     "end_time": "2024-09-24T00:17:32.648197Z",
     "start_time": "2024-09-24T00:17:32.639120Z"
    }
   },
   "cell_type": "code",
   "source": "pd.DataFrame(rows,columns=[x[0] for x in cursor.description])",
   "id": "9fdef3537f55a50e",
   "outputs": [
    {
     "data": {
      "text/plain": [
       "             a           b     c  d\n",
       "0      Atlanta     Georgia  1.25  6\n",
       "1  Tallahassee     Florida  2.60  3\n",
       "2   Sacramento  California  1.70  5\n",
       "3      Atlanta     Georgia  1.25  6\n",
       "4  Tallahassee     Florida  2.60  3\n",
       "5   Sacramento  California  1.70  5"
      ],
      "text/html": [
       "<div>\n",
       "<style scoped>\n",
       "    .dataframe tbody tr th:only-of-type {\n",
       "        vertical-align: middle;\n",
       "    }\n",
       "\n",
       "    .dataframe tbody tr th {\n",
       "        vertical-align: top;\n",
       "    }\n",
       "\n",
       "    .dataframe thead th {\n",
       "        text-align: right;\n",
       "    }\n",
       "</style>\n",
       "<table border=\"1\" class=\"dataframe\">\n",
       "  <thead>\n",
       "    <tr style=\"text-align: right;\">\n",
       "      <th></th>\n",
       "      <th>a</th>\n",
       "      <th>b</th>\n",
       "      <th>c</th>\n",
       "      <th>d</th>\n",
       "    </tr>\n",
       "  </thead>\n",
       "  <tbody>\n",
       "    <tr>\n",
       "      <th>0</th>\n",
       "      <td>Atlanta</td>\n",
       "      <td>Georgia</td>\n",
       "      <td>1.25</td>\n",
       "      <td>6</td>\n",
       "    </tr>\n",
       "    <tr>\n",
       "      <th>1</th>\n",
       "      <td>Tallahassee</td>\n",
       "      <td>Florida</td>\n",
       "      <td>2.60</td>\n",
       "      <td>3</td>\n",
       "    </tr>\n",
       "    <tr>\n",
       "      <th>2</th>\n",
       "      <td>Sacramento</td>\n",
       "      <td>California</td>\n",
       "      <td>1.70</td>\n",
       "      <td>5</td>\n",
       "    </tr>\n",
       "    <tr>\n",
       "      <th>3</th>\n",
       "      <td>Atlanta</td>\n",
       "      <td>Georgia</td>\n",
       "      <td>1.25</td>\n",
       "      <td>6</td>\n",
       "    </tr>\n",
       "    <tr>\n",
       "      <th>4</th>\n",
       "      <td>Tallahassee</td>\n",
       "      <td>Florida</td>\n",
       "      <td>2.60</td>\n",
       "      <td>3</td>\n",
       "    </tr>\n",
       "    <tr>\n",
       "      <th>5</th>\n",
       "      <td>Sacramento</td>\n",
       "      <td>California</td>\n",
       "      <td>1.70</td>\n",
       "      <td>5</td>\n",
       "    </tr>\n",
       "  </tbody>\n",
       "</table>\n",
       "</div>"
      ]
     },
     "execution_count": 28,
     "metadata": {},
     "output_type": "execute_result"
    }
   ],
   "execution_count": 28
  },
  {
   "metadata": {},
   "cell_type": "code",
   "outputs": [],
   "execution_count": null,
   "source": "np.NAN",
   "id": "edfa2936e2ae55"
  }
 ],
 "metadata": {
  "kernelspec": {
   "display_name": "idio",
   "language": "python",
   "name": "idio"
  },
  "language_info": {
   "codemirror_mode": {
    "name": "ipython",
    "version": 3
   },
   "file_extension": ".py",
   "mimetype": "text/x-python",
   "name": "python",
   "nbconvert_exporter": "python",
   "pygments_lexer": "ipython3",
   "version": "3.12.4"
  }
 },
 "nbformat": 4,
 "nbformat_minor": 5
}
