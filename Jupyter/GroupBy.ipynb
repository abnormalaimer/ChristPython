{
 "cells": [
  {
   "metadata": {},
   "cell_type": "markdown",
   "source": "# 10.1 GroupBy",
   "id": "46f12d09d1601594"
  },
  {
   "metadata": {
    "ExecuteTime": {
     "end_time": "2024-10-03T21:09:15.772133Z",
     "start_time": "2024-10-03T21:09:15.758305Z"
    }
   },
   "cell_type": "code",
   "source": [
    "\n",
    "\n",
    "import numpy as np\n",
    "import pandas as pd\n",
    "df = pd.DataFrame({'key1': ['a', 'a', 'b', 'b', 'a'],\n",
    "\t\t\t\t   'key2': ['one', 'two', 'one', 'two', 'one'], 'data1': np.random.randn(5),\n",
    "\t\t\t\t   'data2': np.random.randn(5)})\n",
    "df"
   ],
   "id": "8fb1d808218e96f9",
   "outputs": [
    {
     "data": {
      "text/plain": [
       "  key1 key2     data1     data2\n",
       "0    a  one -0.767198 -0.911038\n",
       "1    a  two -3.441802 -0.250962\n",
       "2    b  one -0.169413 -1.198641\n",
       "3    b  two  0.104819  1.219879\n",
       "4    a  one  0.236160  0.574190"
      ],
      "text/html": [
       "<div>\n",
       "<style scoped>\n",
       "    .dataframe tbody tr th:only-of-type {\n",
       "        vertical-align: middle;\n",
       "    }\n",
       "\n",
       "    .dataframe tbody tr th {\n",
       "        vertical-align: top;\n",
       "    }\n",
       "\n",
       "    .dataframe thead th {\n",
       "        text-align: right;\n",
       "    }\n",
       "</style>\n",
       "<table border=\"1\" class=\"dataframe\">\n",
       "  <thead>\n",
       "    <tr style=\"text-align: right;\">\n",
       "      <th></th>\n",
       "      <th>key1</th>\n",
       "      <th>key2</th>\n",
       "      <th>data1</th>\n",
       "      <th>data2</th>\n",
       "    </tr>\n",
       "  </thead>\n",
       "  <tbody>\n",
       "    <tr>\n",
       "      <th>0</th>\n",
       "      <td>a</td>\n",
       "      <td>one</td>\n",
       "      <td>-0.767198</td>\n",
       "      <td>-0.911038</td>\n",
       "    </tr>\n",
       "    <tr>\n",
       "      <th>1</th>\n",
       "      <td>a</td>\n",
       "      <td>two</td>\n",
       "      <td>-3.441802</td>\n",
       "      <td>-0.250962</td>\n",
       "    </tr>\n",
       "    <tr>\n",
       "      <th>2</th>\n",
       "      <td>b</td>\n",
       "      <td>one</td>\n",
       "      <td>-0.169413</td>\n",
       "      <td>-1.198641</td>\n",
       "    </tr>\n",
       "    <tr>\n",
       "      <th>3</th>\n",
       "      <td>b</td>\n",
       "      <td>two</td>\n",
       "      <td>0.104819</td>\n",
       "      <td>1.219879</td>\n",
       "    </tr>\n",
       "    <tr>\n",
       "      <th>4</th>\n",
       "      <td>a</td>\n",
       "      <td>one</td>\n",
       "      <td>0.236160</td>\n",
       "      <td>0.574190</td>\n",
       "    </tr>\n",
       "  </tbody>\n",
       "</table>\n",
       "</div>"
      ]
     },
     "execution_count": 2,
     "metadata": {},
     "output_type": "execute_result"
    }
   ],
   "execution_count": 2
  },
  {
   "metadata": {},
   "cell_type": "markdown",
   "source": "## groupby mean",
   "id": "c12887d8b2edfd22"
  },
  {
   "metadata": {
    "ExecuteTime": {
     "end_time": "2024-10-03T21:12:04.650444Z",
     "start_time": "2024-10-03T21:12:04.640876Z"
    }
   },
   "cell_type": "code",
   "source": [
    "grouped=df['data1'].groupby(df['key1'])\n",
    "grouped"
   ],
   "id": "829f362d3316b812",
   "outputs": [
    {
     "data": {
      "text/plain": [
       "<pandas.core.groupby.generic.SeriesGroupBy object at 0x000001E4CD3E3C50>"
      ]
     },
     "execution_count": 3,
     "metadata": {},
     "output_type": "execute_result"
    }
   ],
   "execution_count": 3
  },
  {
   "metadata": {
    "ExecuteTime": {
     "end_time": "2024-10-03T21:12:37.233365Z",
     "start_time": "2024-10-03T21:12:37.226948Z"
    }
   },
   "cell_type": "code",
   "source": "grouped.mean()",
   "id": "67c385c4e2663a6c",
   "outputs": [
    {
     "data": {
      "text/plain": [
       "key1\n",
       "a   -1.324280\n",
       "b   -0.032297\n",
       "Name: data1, dtype: float64"
      ]
     },
     "execution_count": 5,
     "metadata": {},
     "output_type": "execute_result"
    }
   ],
   "execution_count": 5
  },
  {
   "metadata": {
    "ExecuteTime": {
     "end_time": "2024-10-03T21:14:03.273161Z",
     "start_time": "2024-10-03T21:14:03.263546Z"
    }
   },
   "cell_type": "code",
   "source": [
    "means = df['data1'].groupby([df['key1'], df['key2']]).mean()\n",
    "means"
   ],
   "id": "7b259dabc648a0dd",
   "outputs": [
    {
     "data": {
      "text/plain": [
       "key1  key2\n",
       "a     one    -0.265519\n",
       "      two    -3.441802\n",
       "b     one    -0.169413\n",
       "      two     0.104819\n",
       "Name: data1, dtype: float64"
      ]
     },
     "execution_count": 6,
     "metadata": {},
     "output_type": "execute_result"
    }
   ],
   "execution_count": 6
  },
  {
   "metadata": {},
   "cell_type": "markdown",
   "source": [
    "## unstack() \n",
    "在Python的pandas库中，unstack() 是一个用于重塑DataFrame（数据框）的方法，它通常用于将一个堆叠（stacked）的多级索引（multi-index）的DataFrame转换回一个更常规的表格格式\n",
    "与 stack() 方法相反，后者是将列转换成行，形成多级索引"
   ],
   "id": "b07e9b881a3749bf"
  },
  {
   "metadata": {
    "ExecuteTime": {
     "end_time": "2024-10-03T21:14:49.759352Z",
     "start_time": "2024-10-03T21:14:49.736421Z"
    }
   },
   "cell_type": "code",
   "source": "means.unstack()",
   "id": "e723cecff9ef3064",
   "outputs": [
    {
     "data": {
      "text/plain": [
       "key2       one       two\n",
       "key1                    \n",
       "a    -0.265519 -3.441802\n",
       "b    -0.169413  0.104819"
      ],
      "text/html": [
       "<div>\n",
       "<style scoped>\n",
       "    .dataframe tbody tr th:only-of-type {\n",
       "        vertical-align: middle;\n",
       "    }\n",
       "\n",
       "    .dataframe tbody tr th {\n",
       "        vertical-align: top;\n",
       "    }\n",
       "\n",
       "    .dataframe thead th {\n",
       "        text-align: right;\n",
       "    }\n",
       "</style>\n",
       "<table border=\"1\" class=\"dataframe\">\n",
       "  <thead>\n",
       "    <tr style=\"text-align: right;\">\n",
       "      <th>key2</th>\n",
       "      <th>one</th>\n",
       "      <th>two</th>\n",
       "    </tr>\n",
       "    <tr>\n",
       "      <th>key1</th>\n",
       "      <th></th>\n",
       "      <th></th>\n",
       "    </tr>\n",
       "  </thead>\n",
       "  <tbody>\n",
       "    <tr>\n",
       "      <th>a</th>\n",
       "      <td>-0.265519</td>\n",
       "      <td>-3.441802</td>\n",
       "    </tr>\n",
       "    <tr>\n",
       "      <th>b</th>\n",
       "      <td>-0.169413</td>\n",
       "      <td>0.104819</td>\n",
       "    </tr>\n",
       "  </tbody>\n",
       "</table>\n",
       "</div>"
      ]
     },
     "execution_count": 7,
     "metadata": {},
     "output_type": "execute_result"
    }
   ],
   "execution_count": 7
  },
  {
   "metadata": {},
   "cell_type": "markdown",
   "source": "## Datatime and Datautil",
   "id": "5f3125c0940ee586"
  },
  {
   "metadata": {
    "ExecuteTime": {
     "end_time": "2024-10-03T21:26:55.405835Z",
     "start_time": "2024-10-03T21:26:55.399235Z"
    }
   },
   "cell_type": "code",
   "source": [
    "from dateutil.parser import parse\n",
    "parse('2011-01-03')"
   ],
   "id": "dc3368d39df1151d",
   "outputs": [
    {
     "data": {
      "text/plain": [
       "datetime.datetime(2011, 1, 3, 0, 0)"
      ]
     },
     "execution_count": 8,
     "metadata": {},
     "output_type": "execute_result"
    }
   ],
   "execution_count": 8
  },
  {
   "metadata": {
    "ExecuteTime": {
     "end_time": "2024-10-03T21:30:37.549971Z",
     "start_time": "2024-10-03T21:30:37.543236Z"
    }
   },
   "cell_type": "code",
   "source": [
    "index=pd.date_range('2011-01-01', '2011-01-04', freq='D')\n",
    "index"
   ],
   "id": "e2a944ee66b6047a",
   "outputs": [
    {
     "data": {
      "text/plain": [
       "DatetimeIndex(['2011-01-01', '2011-01-02', '2011-01-03', '2011-01-04'], dtype='datetime64[ns]', freq='D')"
      ]
     },
     "execution_count": 9,
     "metadata": {},
     "output_type": "execute_result"
    }
   ],
   "execution_count": 9
  },
  {
   "metadata": {},
   "cell_type": "markdown",
   "source": [
    "## data_range \n",
    "start='',end=''表示边界，periods=表示数量，freq表示频率"
   ],
   "id": "91c911fa55281fde"
  },
  {
   "metadata": {
    "ExecuteTime": {
     "end_time": "2024-10-03T21:34:33.205034Z",
     "start_time": "2024-10-03T21:34:33.198266Z"
    }
   },
   "cell_type": "code",
   "source": "pd.date_range('2024-01-01', '2025-01-04', freq='BME')",
   "id": "249ff9d75996eacc",
   "outputs": [
    {
     "data": {
      "text/plain": [
       "DatetimeIndex(['2024-01-31', '2024-02-29', '2024-03-29', '2024-04-30',\n",
       "               '2024-05-31', '2024-06-28', '2024-07-31', '2024-08-30',\n",
       "               '2024-09-30', '2024-10-31', '2024-11-29', '2024-12-31'],\n",
       "              dtype='datetime64[ns]', freq='BME')"
      ]
     },
     "execution_count": 13,
     "metadata": {},
     "output_type": "execute_result"
    }
   ],
   "execution_count": 13
  },
  {
   "metadata": {},
   "cell_type": "code",
   "outputs": [],
   "execution_count": null,
   "source": "",
   "id": "ad6b89a3ae1b172e"
  }
 ],
 "metadata": {
  "kernelspec": {
   "display_name": "Python 3 (ipykernel)",
   "language": "python",
   "name": "python3"
  },
  "language_info": {
   "codemirror_mode": {
    "name": "ipython",
    "version": 2
   },
   "file_extension": ".py",
   "mimetype": "text/x-python",
   "name": "python",
   "nbconvert_exporter": "python",
   "pygments_lexer": "ipython2",
   "version": "2.7.6"
  }
 },
 "nbformat": 4,
 "nbformat_minor": 5
}
