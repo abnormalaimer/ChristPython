{
 "cells": [
  {
   "cell_type": "code",
   "execution_count": 3,
   "id": "d8cd32b3-bebf-439b-b9d7-76837efa5dd6",
   "metadata": {},
   "outputs": [
    {
     "data": {
      "text/plain": [
       "<function str.split(sep=None, maxsplit=-1)>"
      ]
     },
     "execution_count": 3,
     "metadata": {},
     "output_type": "execute_result"
    }
   ],
   "source": [
    "a='foo'\n",
    "getattr(a,'split')"
   ]
  },
  {
   "cell_type": "code",
   "id": "22155049-b7d0-4959-b022-bc4eb5450038",
   "metadata": {
    "ExecuteTime": {
     "end_time": "2024-09-27T09:19:07.937141Z",
     "start_time": "2024-09-27T09:19:07.932819Z"
    }
   },
   "source": [
    "def isiterable(obj):\n",
    "    try:\n",
    "        iter(obj)\n",
    "        return True\n",
    "    except TypeError: # 不可遍历\n",
    "        return False"
   ],
   "outputs": [],
   "execution_count": 1
  },
  {
   "cell_type": "code",
   "execution_count": 3,
   "id": "9fd01f4e-e90c-40e2-b9fe-0db6d62744cb",
   "metadata": {},
   "outputs": [
    {
     "data": {
      "text/plain": [
       "True"
      ]
     },
     "execution_count": 3,
     "metadata": {},
     "output_type": "execute_result"
    }
   ],
   "source": [
    "isiterable('a string')"
   ]
  },
  {
   "cell_type": "code",
   "execution_count": null,
   "id": "c2094d9b-9e3e-4f2d-a839-f77bd830e275",
   "metadata": {},
   "outputs": [],
   "source": []
  }
 ],
 "metadata": {
  "kernelspec": {
   "display_name": "idio",
   "language": "python",
   "name": "idio"
  },
  "language_info": {
   "codemirror_mode": {
    "name": "ipython",
    "version": 3
   },
   "file_extension": ".py",
   "mimetype": "text/x-python",
   "name": "python",
   "nbconvert_exporter": "python",
   "pygments_lexer": "ipython3",
   "version": "3.12.4"
  }
 },
 "nbformat": 4,
 "nbformat_minor": 5
}
