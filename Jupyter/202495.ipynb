{
 "cells": [
  {
   "cell_type": "code",
   "id": "5ce713d7-73b7-4fbc-b28a-467132266fa7",
   "metadata": {
    "ExecuteTime": {
     "end_time": "2024-09-27T09:16:17.001934Z",
     "start_time": "2024-09-27T09:16:16.997443Z"
    }
   },
   "source": "print(\"hello\")",
   "outputs": [
    {
     "name": "stdout",
     "output_type": "stream",
     "text": [
      "hello\n"
     ]
    }
   ],
   "execution_count": 6
  },
  {
   "cell_type": "code",
   "execution_count": 2,
   "id": "0b3a6c18-bd30-4573-8029-40928d98b856",
   "metadata": {},
   "outputs": [
    {
     "name": "stdout",
     "output_type": "stream",
     "text": [
      "hello\n"
     ]
    }
   ],
   "source": [
    "print(\"hello\")"
   ]
  },
  {
   "cell_type": "code",
   "id": "7daa7f3b-8253-41ea-b4ce-315c46cb832c",
   "metadata": {
    "ExecuteTime": {
     "end_time": "2024-09-27T09:16:12.942773Z",
     "start_time": "2024-09-27T09:16:12.933323Z"
    }
   },
   "source": [
    "apple=25\n",
    "example=27"
   ],
   "outputs": [],
   "execution_count": 5
  },
  {
   "cell_type": "code",
   "id": "4a1640aa-355e-4a7b-9a97-acb5558bce1b",
   "metadata": {
    "ExecuteTime": {
     "end_time": "2024-09-27T09:16:11.328568Z",
     "start_time": "2024-09-27T09:16:11.323044Z"
    }
   },
   "source": "apple=25",
   "outputs": [],
   "execution_count": 4
  },
  {
   "cell_type": "code",
   "id": "a94a0fb1-06dd-451e-8a0b-b36ebd79db19",
   "metadata": {
    "scrolled": true,
    "ExecuteTime": {
     "end_time": "2024-09-27T09:16:07.059287Z",
     "start_time": "2024-09-27T09:16:07.050670Z"
    }
   },
   "source": [
    "b=[1,2,3];\n",
    "print(b)"
   ],
   "outputs": [
    {
     "name": "stdout",
     "output_type": "stream",
     "text": [
      "[1, 2, 3]\n"
     ]
    }
   ],
   "execution_count": 3
  },
  {
   "cell_type": "code",
   "id": "5da1fe14-f4e9-4561-8760-91449d626c69",
   "metadata": {
    "ExecuteTime": {
     "end_time": "2024-09-27T09:16:19.796161Z",
     "start_time": "2024-09-27T09:16:19.787878Z"
    }
   },
   "source": "list\n",
   "outputs": [
    {
     "data": {
      "text/plain": [
       "list"
      ]
     },
     "execution_count": 7,
     "metadata": {},
     "output_type": "execute_result"
    }
   ],
   "execution_count": 7
  },
  {
   "cell_type": "code",
   "execution_count": 14,
   "id": "1f922d4a-ef4f-4707-bb1c-082e39a2d9cc",
   "metadata": {},
   "outputs": [
    {
     "name": "stdout",
     "output_type": "stream",
     "text": [
      "123\n"
     ]
    }
   ],
   "source": [
    "print(\"123\")"
   ]
  },
  {
   "cell_type": "code",
   "id": "30c73f94-da84-4597-8502-949f73c660b3",
   "metadata": {
    "ExecuteTime": {
     "end_time": "2024-09-27T09:18:42.559704Z",
     "start_time": "2024-09-27T09:18:42.548929Z"
    }
   },
   "source": [
    "%run test.py"
   ],
   "outputs": [
    {
     "ename": "SyntaxError",
     "evalue": "invalid non-printable character U+00A0 (test.py, line 1)",
     "output_type": "error",
     "traceback": [
      "\u001B[1;36m  File \u001B[1;32mE:\\python\\Jupyter\\test.py:1\u001B[1;36m\u001B[0m\n\u001B[1;33m    def f(x,y,z):\u001B[0m\n\u001B[1;37m                 ^\u001B[0m\n\u001B[1;31mSyntaxError\u001B[0m\u001B[1;31m:\u001B[0m invalid non-printable character U+00A0\n"
     ]
    }
   ],
   "execution_count": 24
  },
  {
   "cell_type": "code",
   "id": "14f15545-3834-46d0-9d9c-d45c4bdfc430",
   "metadata": {
    "ExecuteTime": {
     "end_time": "2024-09-27T09:18:08.133765Z",
     "start_time": "2024-09-27T09:18:08.122711Z"
    }
   },
   "source": "%pwd",
   "outputs": [
    {
     "data": {
      "text/plain": [
       "'E:\\\\python\\\\Jupyter'"
      ]
     },
     "execution_count": 20,
     "metadata": {},
     "output_type": "execute_result"
    }
   ],
   "execution_count": 20
  },
  {
   "cell_type": "code",
   "id": "9eeb5341-b6ed-4bb7-87ba-18171045e1b9",
   "metadata": {
    "ExecuteTime": {
     "end_time": "2024-09-27T09:18:14.790767Z",
     "start_time": "2024-09-27T09:18:14.778757Z"
    }
   },
   "source": "%magic",
   "outputs": [],
   "execution_count": 22
  },
  {
   "cell_type": "code",
   "id": "5bdbb7b8-08e0-4480-af73-72481f5fb7bd",
   "metadata": {
    "ExecuteTime": {
     "end_time": "2024-09-27T09:17:23.264821Z",
     "start_time": "2024-09-27T09:17:23.258942Z"
    }
   },
   "source": [
    "%matplotlib inline"
   ],
   "outputs": [],
   "execution_count": 14
  },
  {
   "cell_type": "code",
   "execution_count": 1,
   "id": "38bcad48-fb1b-4adb-85a0-c63525c837d5",
   "metadata": {
    "editable": true,
    "slideshow": {
     "slide_type": ""
    },
    "tags": []
   },
   "outputs": [
    {
     "data": {
      "text/plain": [
       "True"
      ]
     },
     "execution_count": 1,
     "metadata": {},
     "output_type": "execute_result"
    }
   ],
   "source": [
    "a=6\n",
    "isinstance(a,int)"
   ]
  }
 ],
 "metadata": {
  "kernelspec": {
   "display_name": "idio",
   "language": "python",
   "name": "idio"
  },
  "language_info": {
   "codemirror_mode": {
    "name": "ipython",
    "version": 3
   },
   "file_extension": ".py",
   "mimetype": "text/x-python",
   "name": "python",
   "nbconvert_exporter": "python",
   "pygments_lexer": "ipython3",
   "version": "3.12.4"
  }
 },
 "nbformat": 4,
 "nbformat_minor": 5
}
